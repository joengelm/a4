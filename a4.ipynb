{
 "cells": [
  {
   "cell_type": "code",
   "execution_count": 90,
   "metadata": {
    "collapsed": false
   },
   "outputs": [
    {
     "name": "stdout",
     "output_type": "stream",
     "text": [
      "Found 677 email responses.\n",
      "Found 21397 total emails.\n"
     ]
    }
   ],
   "source": [
    "import csv\n",
    "import sys\n",
    "import time\n",
    "from email.utils import parsedate\n",
    "\n",
    "csv.field_size_limit(sys.maxsize)\n",
    "\n",
    "def get_emails_from_file(email_file):\n",
    "    reader = csv.DictReader(f, delimiter='\\t')\n",
    "    emails_converted = {}\n",
    "    for line in reader:\n",
    "        e = {}\n",
    "        e['ID'] = line['Message-ID']\n",
    "        e['From'] = line['From'].strip()\n",
    "        e['To'] = [t for t in line['To'].strip().split(' ') if t.strip() != '']\n",
    "        e['Cc'] = [c for c in line['Cc'].strip().split(' ') if c.strip() != '']\n",
    "        e['Subject'] = line['Subject'].strip()\n",
    "        e['In-Reply-To'] = line['In-Reply-To'].strip()\n",
    "        d = parsedate(line['Date'].strip())\n",
    "        e['Date'] = time.mktime(d) if d else None\n",
    "        e['Body'] = line['Body'].strip()\n",
    "        emails_converted[line['Message-ID']] = e\n",
    "    return emails_converted\n",
    "\n",
    "emails = {}\n",
    "with open('emails.tsv', 'r') as f:\n",
    "    emails = get_emails_from_file(f)\n",
    "    response_emails = []\n",
    "    for id in emails:\n",
    "        e = emails[id]\n",
    "        if e['From'] == 'joseph_engelman@brown.edu' and e['In-Reply-To'] != '':\n",
    "            response_emails.append(e)\n",
    "        idx = e['In-Reply-To']\n",
    "        if idx != '' and idx in emails:\n",
    "            emails[idx]['Followed-By'] = id\n",
    "    \n",
    "print \"Found\", len(response_emails), \"email responses.\"\n",
    "print \"Found\", len(emails), \"total emails.\""
   ]
  },
  {
   "cell_type": "code",
   "execution_count": 91,
   "metadata": {
    "collapsed": true
   },
   "outputs": [],
   "source": [
    "from collections import defaultdict\n",
    "\n",
    "def label_for_email(email):\n",
    "    if 'Followed-By' not in email:\n",
    "        return None\n",
    "    idx = email['Followed-By']\n",
    "    if idx in emails:\n",
    "        if emails[idx]['From'] != 'joseph_engelman@brown.edu':\n",
    "            return None\n",
    "        t = (emails[idx]['Date'] - email['Date']) / 3600. # convert to hours\n",
    "        if t < 0:\n",
    "            t = -t\n",
    "        return t\n",
    "    else:\n",
    "        return None\n",
    "\n",
    "def get_avg_response_times(emails):\n",
    "    avg_response_times = {}\n",
    "    response_times = defaultdict(list)\n",
    "    for email in emails:\n",
    "        time = label_for_email(email)\n",
    "        if not time:\n",
    "            continue\n",
    "        response_times[email['From']].append(time)\n",
    "    for sender in response_times:\n",
    "        avg = float(sum(response_times[sender])) / float(len(response_times[sender]))\n",
    "        avg_response_times[sender] = avg\n",
    "    return avg_response_times"
   ]
  },
  {
   "cell_type": "code",
   "execution_count": 113,
   "metadata": {
    "collapsed": false
   },
   "outputs": [
    {
     "name": "stdout",
     "output_type": "stream",
     "text": [
      "587\n",
      "587\n",
      "Done.\n"
     ]
    }
   ],
   "source": [
    "# Features: day-of-week, time-of-day, length-of-body, num-recipients\n",
    "# Label: time-to-respond\n",
    "\n",
    "from datetime import datetime\n",
    "import requests\n",
    "import json\n",
    "\n",
    "avg_response_times = get_avg_response_times(emails.values())\n",
    "#for a in avg_response_times:\n",
    "#    print a, \":\", avg_response_times[a]\n",
    "\n",
    "def features_for_email(email):\n",
    "    if not email['Date']:\n",
    "        return None\n",
    "    d = datetime.fromtimestamp(email['Date'])\n",
    "    \n",
    "    day_of_week = d.weekday()\n",
    "    time_of_day = d.hour + d.minute / 60. + d.second / 3600.\n",
    "    time_of_day = time_of_day + 18. if time_of_day < 6. else time_of_day - 6.\n",
    "    time_of_day = -time_of_day\n",
    "    num_recipients = len(email['To']) + len(email['Cc'])\n",
    "    length_of_body = len(email['Body'])\n",
    "    sent_time = float(email['Date'])\n",
    "    \n",
    "    if email['From'] not in avg_response_times:\n",
    "        return None\n",
    "    features = [avg_response_times[email['From']], num_recipients, day_of_week, time_of_day, length_of_body, sent_time]\n",
    "    return features\n",
    "\n",
    "labeled_samples = []\n",
    "\n",
    "for e in emails.values():\n",
    "    if e['From'] == 'joseph_engelman@brown.edu':\n",
    "        continue\n",
    "    features = features_for_email(e)\n",
    "    if not features:\n",
    "        continue\n",
    "    \n",
    "    label = label_for_email(e)\n",
    "    if label:\n",
    "        labeled_samples.append((features, label))\n",
    "\n",
    "labeled_samples.sort(key=lambda sample: sample[0][5])\n",
    "X = [ls[0] for ls in labeled_samples]\n",
    "y = [ls[1] for ls in labeled_samples]\n",
    "length = len(y)\n",
    "weights = [i/float(length) for i in range(0,length)]\n",
    "print len(y)\n",
    "print len(weights)\n",
    "\n",
    "print \"Done.\""
   ]
  },
  {
   "cell_type": "code",
   "execution_count": 115,
   "metadata": {
    "collapsed": false
   },
   "outputs": [
    {
     "name": "stdout",
     "output_type": "stream",
     "text": [
      "[ 0.71875458  0.31086681  0.28920894]\n",
      "Accuracy: 0.44 (+/- 0.40)\n"
     ]
    }
   ],
   "source": [
    "from sklearn.linear_model import LinearRegression \n",
    "from sklearn import cross_validation\n",
    "\n",
    "lr = LinearRegression() \n",
    "lr.fit(X, y, weights) \n",
    "lrScores = cross_validation.cross_val_score(lr, X, y) \n",
    "\n",
    "print lrScores \n",
    "print(\"Accuracy: %0.2f (+/- %0.2f)\" % (lrScores.mean(), lrScores.std() * 2))"
   ]
  },
  {
   "cell_type": "code",
   "execution_count": 96,
   "metadata": {
    "collapsed": false
   },
   "outputs": [
    {
     "name": "stdout",
     "output_type": "stream",
     "text": [
      "Original: {'Body': 'Hey guys!  *Football vs. Holy Cross */When:/ Saturday, October 11 /Calltime:/ 8:30AM /Uniform:/ KPB /Practice Field (in case you arrive late/are confused about where the  practice fields actually are):/ Berylson Family Fields  <https://www.google.com/maps/place/Berylson+Family+Fields/@41.8309209,-71.395243,16z/data=%214m2%213m1%211s0x0:0xa3156b139970afa6> Unfortunately, the Holy Cross \"Good Time\" Marching Band will not be at  the game. But, it will be fun! Football!!!!  *Princeton Scriptwriting and Song Learning */When (Scriptwriting):/ this Friday, 4:00PM at Andrew\\\\\\'s Commons /When (Song Learning):/ this Friday, 7:00PMish at Historian Zoe\\\\\\'s house  (the house that party was at, you know, the party, you remember that,  right, the party?) Feel free to drop by either or both of these! Scriptwriting is as usual,  but afterwards, we\\\\\\'ll be heading up to Zoe\\\\\\'s house to learn some Band  songs (you know, the ones we sing on the bus, you know, those ones, with  all the words, those songs, yeah, those). There should be some time  after/during scriptwriting to eat before you head up. Again, the house  song learning will be at is 240 Brown Street  <https://www.google.com/maps/place/240+Brown+St,+Providence,+RI+02906/@41.833907,-71.405101,17z/data=%213m1%214b1%214m2%213m1%211s0x89e44521e9795a59:0x830e2fa6ad38463b>.  *Princeton Football */When:/ Saturday, October 18 /Calltime:/ 5:30AMish (UGH) /Uniform:/ KPB We love the Princeton Band! We\\\\\\'ll be doing a joint field show with them,  and singing songs and it\\\\\\'ll be wonderful. Plus, this is our first big  away trip!!!! Ask me if you have any questions about stuff we do on the  Princeton trip if you haven\\\\\\'t been, because it\\\\\\'s amazing (but also  Brooke will probably put it in her email).  So, a couple things. One, after games, section leaders should check the  rows their sections occupied to make sure nothing was left behind. You  guys haven\\\\\\'t been messing up on this at all, but I still want to mention  it to make sure you always do it. I\\\\\\'ll be doing a last check anyway just  in case. :)  Also, I SUCK because I didn\\\\\\'t realize song learning was being scheduled  at the same time as clarinet bonding.... Ugh.... I\\\\\\'m the worst. I hope  you forgive me, and you guys are great for holding bonding and also I  should totally just buy you all ice cream or something.  Also also, if your picture isn\\\\\\'t up on the Band Board page  <http://students.brown.edu/band/site/band-board> yet, you should send me  a vaguely square-shaped one to put up. Same goes for if you\\\\\\'re a new  section leader.  Alright, that\\\\\\'s about it. Here\\\\\\'s your GIF for the week. Remember that  it\\\\\\'s completely optional to put these in your emails. Like, you really  don\\\\\\'t have to. But, like, do if you like a challenge. Also, section  numbers will go out as soon as I get them.   http://rob.nu/wp-content/uploads/2011/08/X32uG.gif?a9b554  <3 Benjamom', 'From': 'benjamin_weedon@brown.edu', 'Cc': [], 'To': ['kristen_sorgi@brown.edu', 'sarah_cowles@brown.edu', 'isabella_martinez@brown.edu', 'hayley_siegel@brown.edu', 'charles_gleason@brown.edu', 'brett_sherman@brown.edu', 'gabriel_buchsbaum@brown.edu', 'caleb_hersh@brown.edu', 'sidney_karesh@brown.edu', 'london_cooper-troendle@brown.edu', 'peter_kirschner@brown.edu', 'joseph_engelman@brown.edu'], 'In-Reply-To': '', 'Date': 1412734087.0, 'Followed-By': '<CAK0_O1-314eXYZE5nWviTWKX35LeQJ=WXNxmvrmatzLBRXQbtg@mail.gmail.com>', 'ID': '<54349C87.7040407@brown.edu>', 'Subject': 'More Sectiony Leadery Stuff'}\n",
      "Features: [12.67212962962963, 12, 1, -16.135277777777777, 2891, 1.5748658275970557, 0.04814254669534685]\n",
      "Label: 22.055\n",
      "Prediction: 15.8498799447\n"
     ]
    },
    {
     "name": "stderr",
     "output_type": "stream",
     "text": [
      "/usr/local/lib/python2.7/site-packages/sklearn/utils/validation.py:386: DeprecationWarning: Passing 1d arrays as data is deprecated in 0.17 and willraise ValueError in 0.19. Reshape your data either using X.reshape(-1, 1) if your data has a single feature or X.reshape(1, -1) if it contains a single sample.\n",
      "  DeprecationWarning)\n"
     ]
    }
   ],
   "source": [
    "idx = 20\n",
    "orig, resp = emails[response_emails[idx]['In-Reply-To']], response_emails[idx]\n",
    "\n",
    "print \"Original:\", orig\n",
    "# print \"Response:\", resp\n",
    "\n",
    "f = features_for_email(orig)\n",
    "print \"Features:\", f\n",
    "print \"Label:\", label_for_email(orig)\n",
    "print \"Prediction:\", lr.predict(f)[0]"
   ]
  },
  {
   "cell_type": "code",
   "execution_count": 95,
   "metadata": {
    "collapsed": false,
    "scrolled": true
   },
   "outputs": [
    {
     "name": "stdout",
     "output_type": "stream",
     "text": [
      "0.9949950976\n",
      "0.2904772434\n",
      "0.0582510735\n",
      "0.4749926871\n",
      "0.0021069264\n",
      "-0.2113185300\n",
      "-0.8603029850\n"
     ]
    }
   ],
   "source": [
    "for c in lr.coef_:\n",
    "    print '{0:.10f}'.format(c)"
   ]
  },
  {
   "cell_type": "code",
   "execution_count": 116,
   "metadata": {
    "collapsed": false
   },
   "outputs": [
    {
     "data": {
      "text/plain": [
       "['lr.pkl', 'lr.pkl_01.npy', 'lr.pkl_02.npy']"
      ]
     },
     "execution_count": 116,
     "metadata": {},
     "output_type": "execute_result"
    }
   ],
   "source": [
    "from sklearn.externals import joblib\n",
    "\n",
    "joblib.dump(lr, 'lr.pkl')\n"
   ]
  },
  {
   "cell_type": "code",
   "execution_count": 119,
   "metadata": {
    "collapsed": false
   },
   "outputs": [],
   "source": [
    "import pickle\n",
    "\n",
    "pickle.dump(avg_response_times, open( \"art.pkl\", \"wb\" ))"
   ]
  },
  {
   "cell_type": "code",
   "execution_count": null,
   "metadata": {
    "collapsed": true
   },
   "outputs": [],
   "source": []
  }
 ],
 "metadata": {
  "kernelspec": {
   "display_name": "Python 2",
   "language": "python",
   "name": "python2"
  },
  "language_info": {
   "codemirror_mode": {
    "name": "ipython",
    "version": 2
   },
   "file_extension": ".py",
   "mimetype": "text/x-python",
   "name": "python",
   "nbconvert_exporter": "python",
   "pygments_lexer": "ipython2",
   "version": "2.7.9"
  }
 },
 "nbformat": 4,
 "nbformat_minor": 0
}
