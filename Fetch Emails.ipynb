{
 "cells": [
  {
   "cell_type": "code",
   "execution_count": null,
   "metadata": {
    "collapsed": true
   },
   "outputs": [],
   "source": [
    "import imaplib, email, getpass\n",
    "from email.utils import getaddresses\n",
    "\n",
    "# Email settings\n",
    "imap_server = 'imap.gmail.com'\n",
    "imap_user = 'joseph_engelman@brown.edu'\n",
    "imap_password = getpass.getpass()\n",
    "\n",
    "# Connection\n",
    "conn = imaplib.IMAP4_SSL(imap_server)\n",
    "(retcode, capabilities) = conn.login(imap_user, imap_password)\n",
    "\n",
    "if retcode != \"OK\":\n",
    "    print \"Oh no! Could not connect to GMail.\"\n",
    "else:\n",
    "    print \"Logged in.\""
   ]
  },
  {
   "cell_type": "code",
   "execution_count": null,
   "metadata": {
    "collapsed": true
   },
   "outputs": [],
   "source": [
    "conn.select(\"[Gmail]/All Mail\", readonly=True)\n",
    "result, data = conn.uid('search', None, 'ALL')\n",
    "\n",
    "uids = data[0].split()\n",
    "\n",
    "# Download headers\n",
    "result, data = conn.uid('fetch', ','.join(uids), '(RFC822)')\n",
    "\n",
    "print \"Fetched\", len(uids), \"email(s).\""
   ]
  },
  {
   "cell_type": "code",
   "execution_count": null,
   "metadata": {
    "collapsed": true
   },
   "outputs": [],
   "source": [
    "# Where data will be stored\n",
    "raw_file = open('raw-email-rec.tsv', 'w')\n",
    "\n",
    "# Header for TSV file\n",
    "raw_file.write(\"Message-ID\\tDate\\tSubject\\tFrom\\tTo\\tCc\\tIn-Reply-To\\tBody\\n\")\n",
    "\n",
    "# Parse data and spit out info\n",
    "for i in range(0, len(data)):\n",
    "     \n",
    "    # If the current item is _not_ an email header\n",
    "    if len(data[i]) != 2:\n",
    "        continue\n",
    "     \n",
    "    # Okay, it's an email header. Parse it.\n",
    "    msg = email.message_from_string(data[i][1])\n",
    "    mids = msg.get_all('message-id', None)\n",
    "    mdates = msg.get_all('date', None)\n",
    "    subjects = msg.get_all('subject', None)\n",
    "    senders = msg.get_all('from', [])\n",
    "    receivers = msg.get_all('to', [])\n",
    "    ccs = msg.get_all('cc', [])\n",
    "    in_reply_to = msg.get_all('in-reply-to', [])\n",
    "    \n",
    "    if msg.is_multipart():\n",
    "        body = ' '.join([part.get_payload() for part in msg.walk() if part.get_content_type() == 'text/plain'])\n",
    "    else:\n",
    "        body = msg.get_payload()\n",
    "     \n",
    "    row = \"\\t\" if not mids else mids[0] + \"\\t\"\n",
    "    row += \"\\t\" if not mdates else mdates[0] + \"\\t\"\n",
    "    row += \"\\t\" if not subjects else subjects[0].replace('\\t', ' ').replace('\\r\\n', ' ').replace('\\n', ' ').encode('string_escape') + \"\\t\"\n",
    "     \n",
    "    # Only one person sends an email, but just in case\n",
    "    for name, addr in getaddresses(senders):\n",
    "        row += addr + \" \"\n",
    "    row += \"\\t\"\n",
    "     \n",
    "    # Space-delimited list of those the email was addressed to\n",
    "    for name, addr in getaddresses(receivers):\n",
    "        row += addr + \" \"\n",
    "    row += \"\\t\"\n",
    "    \n",
    "    # Space-delimited list of those who were CC'd\n",
    "    for name, addr in getaddresses(ccs):\n",
    "        row += addr + \" \"\n",
    "    row += \"\\t\"\n",
    "    \n",
    "    # Space-delimited list of messages this message was in reply to\n",
    "    for parent in in_reply_to:\n",
    "        row += parent + \" \"\n",
    "    row += \"\\t\"\n",
    "    \n",
    "    # Full body of the email (including all parts if multipart)\n",
    "    row += body.replace('\\t', ' ').replace('\\r\\n', ' ').replace('\\n', ' ').encode('string_escape')\n",
    "    row += \"\\n\"\n",
    "    \n",
    "    # Just going to output tab-delimited, raw data.\n",
    "    raw_file.write(row)\n",
    "    \n",
    "# Done with file, so close it\n",
    "raw_file.close()\n",
    "print \"Done.\""
   ]
  },
  {
   "cell_type": "code",
   "execution_count": null,
   "metadata": {
    "collapsed": true
   },
   "outputs": [],
   "source": [
    "clean_file = open(\"emails.tsv\", \"w\")\n",
    "\n",
    "with open('raw-email-rec.tsv', 'r') as f:\n",
    "    previous = ''\n",
    "    for line in f:\n",
    "        if line.startswith('<'):\n",
    "            if len(previous) > 0:\n",
    "                clean_file.write(previous)\n",
    "            previous = line\n",
    "        else:\n",
    "            previous = ''\n",
    "        \n",
    "clean_file.close()\n",
    "print \"Done.\""
   ]
  }
 ],
 "metadata": {
  "kernelspec": {
   "display_name": "Python 2",
   "language": "python",
   "name": "python2"
  },
  "language_info": {
   "codemirror_mode": {
    "name": "ipython",
    "version": 2
   },
   "file_extension": ".py",
   "mimetype": "text/x-python",
   "name": "python",
   "nbconvert_exporter": "python",
   "pygments_lexer": "ipython2",
   "version": "2.7.9"
  }
 },
 "nbformat": 4,
 "nbformat_minor": 0
}
